{
 "cells": [
  {
   "cell_type": "markdown",
   "metadata": {},
   "source": [
    "# LABRST-2678 Programming for Network Engineers\n",
    "\n",
    "## Lab Tasks\n",
    "\n",
    "### Task 1: Building blocks of Netmiko python script\n",
    "\n",
    "In this lab exercise you will learn how a basic netmiko python script is constructed. Think of it like a Lego block, first we will start with basic building blocks and quickly iterate through it to build complex programming logics. \n",
    "\n",
    "Let’s dive into the basic building blocks.\n",
    "\n",
    "First we have to import the Netmiko connection libraries\n",
    "```python\n",
    "from netmiko import Netmiko\n",
    "```\n",
    "The connection parameters are collected in a Python dictionary. The connection parameters provide Netmiko with everything it needs to create the SSH connection. In the below example we have shown how to connect to a IOS device, if it is a NXOS device, simply change the device type to 'device_type': 'cisco_nxos'.\n",
    "\n",
    "```python\n",
    "ios1 = {\n",
    "    'device_type': 'cisco_ios',\n",
    "    'ip': '192.18.1.55',\n",
    "    'username': 'cisco',\n",
    "    'password': 'cisco',\n",
    "}\n",
    "```\n",
    "Netmiko is a function that calls the necessary connection parameters and device type (cisco_ios, cisco_xr, cisco_nxos, etc.) Once connection parameters are loaded, the script will launch a SSH connection to login into the device.\n",
    "\n",
    "```python\n",
    "net_connect = Netmiko(**ios1)\n",
    "```\n",
    ".send_command() method is used to send show commands over the channel and receive the output back. Here, we are reading the output of ‘show version’ command and storing it in a variable named 'output'.\n",
    "\n",
    "```python\n",
    "output = net_connect.send_command('show version’)\n",
    "```\n",
    "Using the .send_config_set() method, we can program the network device to enter into configuration mode and make configuration changes. After executing the config_commands the script will exit the configuration mode.\n",
    "\n",
    "```python\n",
    "output = net_connect.send_config_set(config_commands)\n",
    "```\n",
    "\n",
    "We can send either only one command or multiple lines of commands by converting it into a simple list. If we are sending a big configuration, it is recommended to use the .send_config_from_file() method. \n",
    "\n",
    "```python\n",
    "output = net_connect.send_config_from_file('more_config')\n",
    "```\n",
    "\n",
    "All of the session output is stored in an output variable and then printed out in the screen for our reference. \n",
    "\n",
    "For more information on the all the connection methods avaialvle with Netmiko, pls refer the documentation\n",
    "\n",
    "__[Netmiko Introduction](https://pynet.twb-tech.com/blog/automation/netmiko.html)__\n",
    "\n",
    "__[Netmiko Documentation](https://netmiko.readthedocs.io/en/latest/classes/base_connection.html)__\n"
   ]
  },
  {
   "cell_type": "markdown",
   "metadata": {},
   "source": [
    "### Task 2: Executing a show command on a network device\n",
    "\n",
    "The python script will\n",
    "- login to the iosv-1 device via SSH\n",
    "- run the show version command\n",
    "- capture the output\n",
    "- print the command output to the screen.\n",
    "\n",
    "###### Note: When you see the [*] instead on a number, it means that the python code is excuting in the background. Please wait until the task to complete. "
   ]
  },
  {
   "cell_type": "code",
   "execution_count": 1,
   "metadata": {},
   "outputs": [
    {
     "name": "stdout",
     "output_type": "stream",
     "text": [
      "Cisco IOS Software, IOSv Software (VIOS-ADVENTERPRISEK9-M), Version 15.6(3)M2, RELEASE SOFTWARE (fc2)\n",
      "Technical Support: http://www.cisco.com/techsupport\n",
      "Copyright (c) 1986-2017 by Cisco Systems, Inc.\n",
      "Compiled Wed 29-Mar-17 14:05 by prod_rel_team\n",
      "\n",
      "\n",
      "ROM: Bootstrap program is IOSv\n",
      "\n",
      "iosv-1 uptime is 2 days, 20 hours, 1 minute\n",
      "System returned to ROM by reload\n",
      "System image file is \"flash0:/vios-adventerprisek9-m\"\n",
      "Last reload reason: Unknown reason\n",
      "\n",
      "\n",
      "\n",
      "This product contains cryptographic features and is subject to United\n",
      "States and local country laws governing import, export, transfer and\n",
      "use. Delivery of Cisco cryptographic products does not imply\n",
      "third-party authority to import, export, distribute or use encryption.\n",
      "Importers, exporters, distributors and users are responsible for\n",
      "compliance with U.S. and local country laws. By using this product you\n",
      "agree to comply with applicable laws and regulations. If you are unable\n",
      "to comply with U.S. and local laws, return this product immediately.\n",
      "\n",
      "A summary of U.S. laws governing Cisco cryptographic products may be found at:\n",
      "http://www.cisco.com/wwl/export/crypto/tool/stqrg.html\n",
      "\n",
      "If you require further assistance please contact us by sending email to\n",
      "export@cisco.com.\n",
      "\n",
      "Cisco IOSv (revision 1.0) with  with 484609K/37888K bytes of memory.\n",
      "Processor board ID 981RJF1NEYO0XN3VBOFX9\n",
      "2 Gigabit Ethernet interfaces\n",
      "DRAM configuration is 72 bits wide with parity disabled.\n",
      "256K bytes of non-volatile configuration memory.\n",
      "2097152K bytes of ATA System CompactFlash 0 (Read/Write)\n",
      "0K bytes of ATA CompactFlash 1 (Read/Write)\n",
      "0K bytes of ATA CompactFlash 2 (Read/Write)\n",
      "10080K bytes of ATA CompactFlash 3 (Read/Write)\n",
      "\n",
      "\n",
      "\n",
      "Configuration register is 0x0\n",
      "\n"
     ]
    }
   ],
   "source": [
    "#!/usr/bin/env python\n",
    "from netmiko import Netmiko\n",
    "\n",
    "# SSH Connection Details\n",
    "ios1 = {\n",
    "    'device_type': 'cisco_ios',\n",
    "    'ip': '198.18.1.55',\n",
    "    'username': 'cisco',\n",
    "    'password': 'cisco',\n",
    "}\n",
    "\n",
    "# Establish SSH to device and run show command\n",
    "net_connect = Netmiko(**ios1)\n",
    "output = net_connect.send_command('show version')\n",
    "print (output)"
   ]
  },
  {
   "cell_type": "markdown",
   "metadata": {},
   "source": [
    "### Task 3: Configuring a network device\n",
    "\n",
    "The python script will\n",
    "- login to the iosv-1 device via SSH\n",
    "- make a configuration change \"logging host 10.1.1.1\"\n",
    "- capture the output\n",
    "- print the command output to the screen.\n",
    "\n",
    "Notice we are reusing the same code, that we used in previous task. Only change is, instead of net_connect.send_command() we are using net_connect.send_config_set(). Rest of the script remains the same. Moving forward we will use the same logic, iterate the throught the code we have already written and add addtional logic on top of it to automate complex network tasks. "
   ]
  },
  {
   "cell_type": "code",
   "execution_count": 2,
   "metadata": {},
   "outputs": [
    {
     "name": "stdout",
     "output_type": "stream",
     "text": [
      "config term\n",
      "Enter configuration commands, one per line.  End with CNTL/Z.\n",
      "iosv-1(config)#logging host 10.1.1.1\n",
      "iosv-1(config)#end\n",
      "iosv-1#\n"
     ]
    }
   ],
   "source": [
    "#!/usr/bin/env python\n",
    "from netmiko import Netmiko\n",
    "\n",
    "# SSH Connection Details\n",
    "ios1 = {\n",
    "    'device_type': 'cisco_ios',\n",
    "    'ip': '198.18.1.55',\n",
    "    'username': 'cisco',\n",
    "    'password': 'cisco',\n",
    "}\n",
    "\n",
    "# Establish SSH to device and run config command\n",
    "net_connect = Netmiko(**ios1)\n",
    "output = net_connect.send_config_set('logging host 10.1.1.1')\n",
    "print (output)"
   ]
  },
  {
   "cell_type": "markdown",
   "metadata": {},
   "source": [
    "### Task 4: Configuring mutiple network devices\n",
    "\n",
    "The python script will\n",
    "- login to the iosv-1 and iosv-2 devices via SSH\n",
    "- make a configuration change \"logging host 10.1.1.2\"\n",
    "- capture the output\n",
    "- print the command output to the screen.\n",
    "\n",
    "To configure multiple devices, we have to create multiple SSH connection profiles and add it to a list. Then add a for loop to iterate through the connection profiles and make config changes to the IOS devices.\n",
    "\n",
    "```python\n",
    "device_list = [ios1, ios2]\n",
    "\n",
    "for device in device_list:\n",
    "    ** Netmiko config code block **\n",
    "```"
   ]
  },
  {
   "cell_type": "code",
   "execution_count": 3,
   "metadata": {},
   "outputs": [
    {
     "name": "stdout",
     "output_type": "stream",
     "text": [
      "Connecting to device 198.18.1.55\n",
      "config term\n",
      "Enter configuration commands, one per line.  End with CNTL/Z.\n",
      "iosv-1(config)#logging host 10.1.1.2\n",
      "iosv-1(config)#end\n",
      "iosv-1#\n",
      "Connecting to device 198.18.1.56\n",
      "config term\n",
      "Enter configuration commands, one per line.  End with CNTL/Z.\n",
      "iosv-2(config)#logging host 10.1.1.2\n",
      "iosv-2(config)#end\n",
      "iosv-2#\n"
     ]
    }
   ],
   "source": [
    "#!/usr/bin/env python\n",
    "from netmiko import Netmiko\n",
    "\n",
    "# SSH Connection Details\n",
    "ios1 = {\n",
    "    'device_type': 'cisco_ios',\n",
    "    'ip': '198.18.1.55',\n",
    "    'username': 'cisco',\n",
    "    'password': 'cisco',\n",
    "}\n",
    "\n",
    "ios2 = {\n",
    "    'device_type': 'cisco_ios',\n",
    "    'ip': '198.18.1.56',\n",
    "    'username': 'cisco',\n",
    "    'password': 'cisco',\n",
    "}\n",
    "\n",
    "devices = [ios1, ios2]\n",
    "\n",
    "for device in devices: \n",
    "    # Establish SSH to device and run config command\n",
    "    print ('Connecting to device ' + device['ip'])\n",
    "    net_connect = Netmiko(**device)\n",
    "    output = net_connect.send_config_set('logging host 10.1.1.2')\n",
    "    print (output)"
   ]
  },
  {
   "cell_type": "markdown",
   "metadata": {},
   "source": [
    "### Task 5:  Pushing large configurations across multiple devices\n",
    "\n",
    "Now we have a solid understanding of how to write basic scripts. Next step is to make our code modular. For that we should remove all of the hardcoded variables from the script. The variables that are used in the script has to be provided by the user who runs the script or from an external file.\n",
    "\n",
    "The python script will\n",
    "- Load the device ip details from a text file named 'device_list'\n",
    "- Load the configuration commands from a text file named 'config_commands'\n",
    "- Requests the login credentials from the user\n",
    "- Uses getpass() module to encrypt the user provided password\n",
    "- Login to each device in the 'device_list' and configure the commands given in 'config_commands' file.\n",
    "- Print the output\n",
    "\n",
    "\n",
    "First we use the input() and getpass() modules to collect the login credentials. Next, read the contents of the file using inbuilt python file module - with open(). After that we loop through the device_list and configure the devives. \n",
    "\n",
    "```python\n",
    "username = input()\n",
    "password = getpass()\n",
    "\n",
    "with open('file_name') as f:\n",
    "    device_list = f.read().splitlines()\n",
    "\n",
    "for devices in device_list:\n",
    "    ** Netmiko config code block **    \n",
    "```"
   ]
  },
  {
   "cell_type": "code",
   "execution_count": 4,
   "metadata": {},
   "outputs": [
    {
     "name": "stdout",
     "output_type": "stream",
     "text": [
      "Enter your SSH username: cisco\n",
      "Enter your password: ········\n",
      "Connecting to device 198.18.1.55\n",
      "config term\n",
      "Enter configuration commands, one per line.  End with CNTL/Z.\n",
      "iosv-1(config)#logging console\n",
      "iosv-1(config)#logging host 10.1.1.3\n",
      "iosv-1(config)#ntp server 10.1.1.4\n",
      "iosv-1(config)#ip name-server 10.1.1.5\n",
      "iosv-1(config)#no ip http server\n",
      "iosv-1(config)#no ip http secure-server\n",
      "iosv-1(config)#snmp-server community cisco_public RO\n",
      "iosv-1(config)#snmp-server community cisco_private RW\n",
      "iosv-1(config)#snmp-server location dCloud\n",
      "iosv-1(config)#ip access-list extended TEST_ACL\n",
      "iosv-1(config-ext-nacl)#permit ip 1.1.1.0 0.0.0.255 any\n",
      "iosv-1(config-ext-nacl)#permit ip 2.2.2.0 0.0.0.255 any\n",
      "iosv-1(config-ext-nacl)#permit ip 3.3.3.0 0.0.0.255 any\n",
      "iosv-1(config-ext-nacl)#interface loopback 10\n",
      "iosv-1(config-if)#description \"Created by Python\"\n",
      "iosv-1(config-if)#end\n",
      "iosv-1#\n",
      "Connecting to device 198.18.1.56\n",
      "config term\n",
      "Enter configuration commands, one per line.  End with CNTL/Z.\n",
      "iosv-2(config)#logging console\n",
      "iosv-2(config)#logging host 10.1.1.3\n",
      "iosv-2(config)#ntp server 10.1.1.4\n",
      "iosv-2(config)#ip name-server 10.1.1.5\n",
      "iosv-2(config)#no ip http server\n",
      "iosv-2(config)#no ip http secure-server\n",
      "iosv-2(config)#snmp-server community cisco_public RO\n",
      "iosv-2(config)#snmp-server community cisco_private RW\n",
      "iosv-2(config)#snmp-server location dCloud\n",
      "iosv-2(config)#ip access-list extended TEST_ACL\n",
      "iosv-2(config-ext-nacl)#permit ip 1.1.1.0 0.0.0.255 any\n",
      "iosv-2(config-ext-nacl)#permit ip 2.2.2.0 0.0.0.255 any\n",
      "iosv-2(config-ext-nacl)#permit ip 3.3.3.0 0.0.0.255 any\n",
      "iosv-2(config-ext-nacl)#interface loopback 10\n",
      "iosv-2(config-if)#description \"Created by Python\"\n",
      "iosv-2(config-if)#end\n",
      "iosv-2#\n"
     ]
    }
   ],
   "source": [
    "#!/usr/bin/env python\n",
    "from netmiko import Netmiko\n",
    "from getpass import getpass\n",
    "\n",
    "# SSH username and password provided by user\n",
    "username = input('Enter your SSH username: ')\n",
    "password = getpass('Enter your password: ')\n",
    "\n",
    "# Sending device ip's stored in a file \n",
    "with open('device_list') as f:\n",
    "    device_list = f.read().splitlines()\n",
    "\n",
    "# Iterate through device list and configure the devices \n",
    "for device in device_list:\n",
    "    print ('Connecting to device ' + device)\n",
    "    ip_address_of_device = device\n",
    "    \n",
    "    # SSH Connection details\n",
    "    ios_device = {\n",
    "        'device_type': 'cisco_ios',\n",
    "        'ip': ip_address_of_device, \n",
    "        'username': username,\n",
    "        'password': password\n",
    "    }\n",
    " \n",
    "    net_connect = Netmiko(**ios_device)\n",
    "    output = net_connect.send_config_from_file('config_commands')\n",
    "    print (output)        "
   ]
  },
  {
   "cell_type": "markdown",
   "metadata": {},
   "source": [
    "### Task 5:  Error handling and verification\n",
    "\n",
    "In this task we will demonstrate how to enable error handling for our scripts. The idea behind error handling is to catch any exceptions that occurs during the execution of the script. Without error handling when an exception is detected the python script terminates and reports error.  \n",
    "\n",
    "\n",
    "Try and expect code blocks will help us to catch any errors during program execution. We have added diffrent exceptions that can be triggered during the exceution. For example: device timeout, reachability issues, wrong user credential errors, etc. If an exception is detected, the script will move on to the next device and complete the task. \n",
    "\n",
    "```python\n",
    "username = input()\n",
    "password = getpass()\n",
    "\n",
    "with open('file_name') as f:\n",
    "    device_list = f.read().splitlines()\n",
    "\n",
    "for devices in device_list:\n",
    "    try:\n",
    "        ** Netmiko connection **\n",
    "    except:\n",
    "        ** Error condition **\n",
    "        continue\n",
    "    \n",
    "    ** Netmiko config code block **    \n",
    "```\n",
    "\n",
    "Test the exceptions, try providing wrong username and password to check whether the scripts catch and report the exceptions."
   ]
  },
  {
   "cell_type": "code",
   "execution_count": 5,
   "metadata": {
    "scrolled": true
   },
   "outputs": [
    {
     "name": "stdout",
     "output_type": "stream",
     "text": [
      "Enter your SSH username: cisco\n",
      "Enter your password: ········\n",
      "Connecting to device 198.18.1.55\n",
      "config term\n",
      "Enter configuration commands, one per line.  End with CNTL/Z.\n",
      "iosv-1(config)#logging console\n",
      "iosv-1(config)#logging host 10.1.1.3\n",
      "iosv-1(config)#ntp server 10.1.1.4\n",
      "iosv-1(config)#ip name-server 10.1.1.5\n",
      "iosv-1(config)#no ip http server\n",
      "iosv-1(config)#no ip http secure-server\n",
      "iosv-1(config)#snmp-server community cisco_public RO\n",
      "iosv-1(config)#snmp-server community cisco_private RW\n",
      "iosv-1(config)#snmp-server location dCloud\n",
      "iosv-1(config)#ip access-list extended TEST_ACL\n",
      "iosv-1(config-ext-nacl)#permit ip 1.1.1.0 0.0.0.255 any\n",
      "iosv-1(config-ext-nacl)#permit ip 2.2.2.0 0.0.0.255 any\n",
      "iosv-1(config-ext-nacl)#permit ip 3.3.3.0 0.0.0.255 any\n",
      "iosv-1(config-ext-nacl)#interface loopback 10\n",
      "iosv-1(config-if)#description \"Created by Python\"\n",
      "iosv-1(config-if)#end\n",
      "iosv-1#Building configuration...\n",
      "\n",
      "  \n",
      "  [OK]\n",
      "Connecting to device 198.18.1.56\n",
      "config term\n",
      "Enter configuration commands, one per line.  End with CNTL/Z.\n",
      "iosv-2(config)#logging console\n",
      "iosv-2(config)#logging host 10.1.1.3\n",
      "iosv-2(config)#ntp server 10.1.1.4\n",
      "iosv-2(config)#ip name-server 10.1.1.5\n",
      "iosv-2(config)#no ip http server\n",
      "iosv-2(config)#no ip http secure-server\n",
      "iosv-2(config)#snmp-server community cisco_public RO\n",
      "iosv-2(config)#snmp-server community cisco_private RW\n",
      "iosv-2(config)#snmp-server location dCloud\n",
      "iosv-2(config)#ip access-list extended TEST_ACL\n",
      "iosv-2(config-ext-nacl)#permit ip 1.1.1.0 0.0.0.255 any\n",
      "iosv-2(config-ext-nacl)#permit ip 2.2.2.0 0.0.0.255 any\n",
      "iosv-2(config-ext-nacl)#permit ip 3.3.3.0 0.0.0.255 any\n",
      "iosv-2(config-ext-nacl)#interface loopback 10\n",
      "iosv-2(config-if)#description \"Created by Python\"\n",
      "iosv-2(config-if)#end\n",
      "iosv-2#Building configuration...\n",
      "\n",
      "  \n",
      "  [OK]\n"
     ]
    }
   ],
   "source": [
    "#!/usr/bin/env python\n",
    "from getpass import getpass\n",
    "from netmiko import Netmiko\n",
    "from netmiko.ssh_exception import NetMikoTimeoutException\n",
    "from paramiko.ssh_exception import SSHException\n",
    "from netmiko.ssh_exception import AuthenticationException\n",
    "\n",
    "# Collect login credentials\n",
    "username = input('Enter your SSH username: ')\n",
    "password = getpass('Enter your password: ')\n",
    "\n",
    "# Sending device ip's stored in a file\n",
    "with open('device_list') as f:\n",
    "    device_list = f.read().splitlines()\n",
    "\n",
    "# Iterate through device list and configure the devices\n",
    "for devices in device_list:\n",
    "    print ('Connecting to device ' + devices)\n",
    "    ip_address_of_device = devices\n",
    "    ios_device = {\n",
    "        'device_type': 'cisco_ios',\n",
    "        'ip': ip_address_of_device,\n",
    "        'username': username,\n",
    "        'password': password\n",
    "    }\n",
    "    # Error handling parameters\n",
    "    try:\n",
    "        net_connect = Netmiko(**ios_device)\n",
    "    except (AuthenticationException):\n",
    "        print ('Authentication failure: ' + ip_address_of_device)\n",
    "        continue\n",
    "    except (NetMikoTimeoutException):\n",
    "        print ('Timeout to device: ' + ip_address_of_device)\n",
    "        continue\n",
    "    except (EOFError):\n",
    "        print (\"End of file while attempting device \" + ip_address_of_device)\n",
    "        continue\n",
    "    except (SSHException):\n",
    "        print ('SSH Issue. Are you sure SSH is enabled? ' + ip_address_of_device)\n",
    "        continue\n",
    "    except Exception as unknown_error:\n",
    "        print ('Some other error: ' + str(unknown_error))\n",
    "        continue\n",
    "\n",
    "    # Configure the device and save config\n",
    "    output = net_connect.send_config_from_file('config_commands')\n",
    "    output += net_connect.send_command('wr mem')\n",
    "    print (output)"
   ]
  },
  {
   "cell_type": "markdown",
   "metadata": {},
   "source": [
    "### Task 7: Building blocks of NAPALM python script\n",
    "\n",
    "In this exercise you will learn how a basic NAPALM python script is constructed. \n",
    "\n",
    "First we have to import the NAPALM connection drivers\n",
    "```python\n",
    "from napalm import get_network_driver\n",
    "```\n",
    "The connection parameters are provided to the network driver, which includes end device OS type, ip address and login credentials. \n",
    "\n",
    "```python\n",
    "driver = get_network_driver('ios')\n",
    "device = driver('198.18.1.55', 'cisco', 'cisco')\n",
    "```\n",
    "\n",
    "NAPALM will open the SSH connection using the connection paramenters\n",
    "\n",
    "```python\n",
    "device.open()\n",
    "```\n",
    "\n",
    "Once connection is established, NAPALM functions are called to perform various tasks.\n",
    "\n",
    "```python\n",
    "device.get_facts()\n",
    "```\n",
    "\n",
    "Close the SSH connection.\n",
    "\n",
    "```python\n",
    "device.close()\n",
    "```\n",
    "\n",
    "#### Primary functions of NAPALM\n",
    " \n",
    "- __load_merge_candidate:__ Populate the candidate config, either from file or text.\n",
    "- __load_replace_candidate:__ Similar to load_merge_candidate, but instead of a merge, the existing configuration will be entirely replaced with the content of the file, or the configuration loaded as text.\n",
    "- __compare_config:__ Return the difference between the running configuration and the candidate.\n",
    "- __discard_config:__ Discards the changes loaded into the candidate configuration.\n",
    "- __commit_config:__ Commit the changes loaded using load_merge_candidate or load_replace_candidate.\n",
    "- __rollback:__ Revert the running configuration to the previous state.\n",
    "\n",
    "#### Addtional get functions \n",
    "\n",
    "- __get_facts:__ collect facts and operational data from end devices (vendor, model, uptime, etc.)\n",
    "- __get_interfaces:__ speed, mac, enabled, description, etc.\n",
    "- __get_interfaces_counters:__ packets, octets, errors\n",
    "- __get_bgp_neighbors:__ AS, IP, received prefixes, accepted prefixes, etc.\n",
    "- __get_environment:__ fan, temp, power, cpu, mem\n",
    "- __get_lldp_neighbors:__ hostname, port\n",
    "\n",
    "Note: NAPALM requires some prerequisites for properly interacting with the cisco devices. For more information, pls refer the documentation:\n",
    "https://napalm.readthedocs.io/en/latest/support/ios.html\n"
   ]
  },
  {
   "cell_type": "markdown",
   "metadata": {},
   "source": [
    "### Task 8: Collecting facts from network devices\n",
    "\n",
    "The python script will\n",
    "- login to the iosv-1 device via SSH\n",
    "- collect the device facts\n",
    "- print the output"
   ]
  },
  {
   "cell_type": "code",
   "execution_count": 6,
   "metadata": {},
   "outputs": [
    {
     "name": "stdout",
     "output_type": "stream",
     "text": [
      "NAPALM is running........\n",
      "\n",
      "{'uptime': 245160, 'vendor': 'Cisco', 'os_version': 'IOSv Software (VIOS-ADVENTERPRISEK9-M), Version 15.6(3)M2, RELEASE SOFTWARE (fc2)', 'serial_number': '981RJF1NEYO0XN3VBOFX9', 'model': 'IOSv', 'hostname': 'iosv-1', 'fqdn': 'iosv-1.virl.info', 'interface_list': ['GigabitEthernet0/0', 'GigabitEthernet0/1', 'Loopback0', 'Loopback10']}\n"
     ]
    }
   ],
   "source": [
    "#!/usr/bin/env python\n",
    "\n",
    "from napalm import get_network_driver\n",
    "\n",
    "driver = get_network_driver('ios')\n",
    "device = driver('198.18.1.55', 'cisco', 'cisco')\n",
    "\n",
    "device.open()\n",
    "print('NAPALM is running........\\n')\n",
    "facts = device.get_facts()\n",
    "print(facts)\n",
    "device.close()"
   ]
  },
  {
   "cell_type": "markdown",
   "metadata": {},
   "source": [
    "#### By default napalm get_facts will provide a strcutred data output in dictionary format. To make it more readable we can use pprint module"
   ]
  },
  {
   "cell_type": "code",
   "execution_count": 7,
   "metadata": {},
   "outputs": [
    {
     "name": "stdout",
     "output_type": "stream",
     "text": [
      "NAPALM is running........\n",
      "\n",
      "{   'fqdn': 'iosv-1.virl.info',\n",
      "    'hostname': 'iosv-1',\n",
      "    'interface_list': [   'GigabitEthernet0/0',\n",
      "                          'GigabitEthernet0/1',\n",
      "                          'Loopback0',\n",
      "                          'Loopback10'],\n",
      "    'model': 'IOSv',\n",
      "    'os_version': 'IOSv Software (VIOS-ADVENTERPRISEK9-M), Version 15.6(3)M2, '\n",
      "                  'RELEASE SOFTWARE (fc2)',\n",
      "    'serial_number': '981RJF1NEYO0XN3VBOFX9',\n",
      "    'uptime': 245160,\n",
      "    'vendor': 'Cisco'}\n"
     ]
    }
   ],
   "source": [
    "#!/usr/bin/env python\n",
    "import pprint\n",
    "from napalm import get_network_driver\n",
    "\n",
    "driver = get_network_driver('ios')\n",
    "device = driver('198.18.1.55', 'cisco', 'cisco')\n",
    "\n",
    "device.open()\n",
    "print('NAPALM is running........\\n')\n",
    "facts = device.get_facts()\n",
    "\n",
    "pp = pprint.PrettyPrinter(indent=4)\n",
    "pp.pprint(facts)\n",
    "device.close()"
   ]
  },
  {
   "cell_type": "markdown",
   "metadata": {},
   "source": [
    "#### We can also use get_facts info to build a report "
   ]
  },
  {
   "cell_type": "code",
   "execution_count": 8,
   "metadata": {},
   "outputs": [
    {
     "name": "stdout",
     "output_type": "stream",
     "text": [
      "NAPALM is running on 198.18.1.55........\n",
      "\n",
      "NAPALM is running on 198.18.1.56........\n",
      "\n",
      "+----------+--------+-------+-----------------------+\n",
      "| Hostname | Vendor | Model |       Serial No.      |\n",
      "+----------+--------+-------+-----------------------+\n",
      "|  iosv-1  | Cisco  |  IOSv | 981RJF1NEYO0XN3VBOFX9 |\n",
      "|  iosv-2  | Cisco  |  IOSv | 9D5YRAXYAAGXGR8HA4ZNB |\n",
      "+----------+--------+-------+-----------------------+\n"
     ]
    }
   ],
   "source": [
    "#!/usr/bin/env python\n",
    "import pprint\n",
    "from napalm import get_network_driver\n",
    "from prettytable import PrettyTable\n",
    "\n",
    "device_ip = ['198.18.1.55', '198.18.1.56']\n",
    "# Using prettytable to print a sample report\n",
    "report = PrettyTable(['Hostname', 'Vendor', 'Model', 'Serial No.'])\n",
    "\n",
    "for ip in device_ip:\n",
    "    driver = get_network_driver('ios')\n",
    "    device = driver(ip, 'cisco', 'cisco')\n",
    "    device.open()\n",
    "    print('NAPALM is running on ' + ip + '........\\n')\n",
    "    facts = device.get_facts()\n",
    "    report.add_row([facts['hostname'], facts['vendor'], facts['model'], facts['serial_number']])\n",
    "    device.close()\n",
    "print (report)  "
   ]
  },
  {
   "cell_type": "markdown",
   "metadata": {},
   "source": [
    "### Task 9: Configuring a network device with load_merge option\n",
    "\n",
    "In this task we configure the ios device with couple of loopback interfaces. The config changes will be provided by the new_loopback.cfg file"
   ]
  },
  {
   "cell_type": "code",
   "execution_count": 9,
   "metadata": {},
   "outputs": [
    {
     "name": "stdout",
     "output_type": "stream",
     "text": [
      "interface Loopback100\n",
      " ip address 1.1.1.100 255.255.255.255\n",
      "interface Loopback200\n",
      " ip address 1.1.1.200 255.255.255.255\n"
     ]
    }
   ],
   "source": [
    "!more new_loopback.cfg"
   ]
  },
  {
   "cell_type": "markdown",
   "metadata": {},
   "source": [
    "#### Now we load the new config file using 'load_merge_candidate()' and use 'compare_config()' to compare it with the running config and print the diffs. If in case there are no changes required the script will print the output \"no changes needed\"\n",
    "\n",
    "'+' indiacates new config will be added\n",
    "'-' indiacates the config will be removed"
   ]
  },
  {
   "cell_type": "code",
   "execution_count": 10,
   "metadata": {},
   "outputs": [
    {
     "name": "stdout",
     "output_type": "stream",
     "text": [
      "Napalm Is Running........\n",
      "\n",
      "+interface Loopback100\n",
      "+ ip address 1.1.1.100 255.255.255.255\n",
      "+interface Loopback200\n",
      "+ ip address 1.1.1.200 255.255.255.255\n"
     ]
    }
   ],
   "source": [
    "#!/usr/bin/env python\n",
    "import pprint\n",
    "from napalm import get_network_driver\n",
    "\n",
    "driver = get_network_driver('ios')\n",
    "device = driver('198.18.1.55', 'cisco', 'cisco')\n",
    "\n",
    "device.open()\n",
    "print('Napalm Is Running........\\n')\n",
    "device.load_merge_candidate(filename='new_loopback.cfg')\n",
    "diffs = device.compare_config()\n",
    "\n",
    "if len(diffs) > 0:\n",
    "    print(diffs)\n",
    "else:\n",
    "    print('No changes needed')\n",
    "    "
   ]
  },
  {
   "cell_type": "markdown",
   "metadata": {},
   "source": [
    "#### Lets commit the nee configs"
   ]
  },
  {
   "cell_type": "code",
   "execution_count": 11,
   "metadata": {},
   "outputs": [
    {
     "name": "stdout",
     "output_type": "stream",
     "text": [
      "Commiting changes...\n",
      "Done\n"
     ]
    }
   ],
   "source": [
    "print('Commiting changes...')\n",
    "device.commit_config()\n",
    "print('Done')"
   ]
  },
  {
   "cell_type": "markdown",
   "metadata": {},
   "source": [
    "#### Task 10: Rollback configuration changes\n",
    "\n",
    "In case if something goes wrong after commiting the changes and we want to rollback the change, we can use 'rollback()' to remove previously commited config changes\n",
    "\n",
    "To confirm the loopbacks are removed, we will use get_facts() method to print the interface list."
   ]
  },
  {
   "cell_type": "code",
   "execution_count": 12,
   "metadata": {},
   "outputs": [
    {
     "name": "stdout",
     "output_type": "stream",
     "text": [
      "Napalm Is Running........\n",
      "\n",
      "['GigabitEthernet0/0', 'GigabitEthernet0/1', 'Loopback0', 'Loopback10']\n"
     ]
    }
   ],
   "source": [
    "#!/usr/bin/env python\n",
    "import pprint\n",
    "from napalm import get_network_driver\n",
    "\n",
    "driver = get_network_driver('ios')\n",
    "device = driver('198.18.1.55', 'cisco', 'cisco')\n",
    "device.open()\n",
    "print('Napalm Is Running........\\n')\n",
    "\n",
    "device.rollback()\n",
    "\n",
    "pp = pprint.PrettyPrinter(indent=4)\n",
    "\n",
    "facts = device.get_facts()\n",
    "# print interface list\n",
    "\n",
    "pp.pprint(facts['interface_list'])\n",
    "\n",
    "device.close()"
   ]
  },
  {
   "cell_type": "markdown",
   "metadata": {},
   "source": [
    "#### Task 11: Reset lab config to default state\n",
    "\n",
    "Finally we will use the reset script to bring back all the devices to its original state. "
   ]
  },
  {
   "cell_type": "code",
   "execution_count": 13,
   "metadata": {},
   "outputs": [
    {
     "name": "stdout",
     "output_type": "stream",
     "text": [
      "Connecting to device 198.18.1.55\n",
      "config term\n",
      "Enter configuration commands, one per line.  End with CNTL/Z.\n",
      "iosv-1(config)#no logging console\n",
      "iosv-1(config)#no logging host 10.1.1.1\n",
      "iosv-1(config)#no logging host 10.1.1.2\n",
      "iosv-1(config)#no logging host 10.1.1.3\n",
      "iosv-1(config)#no ntp server 10.1.1.4\n",
      "iosv-1(config)#no ip name-server 10.1.1.5\n",
      "iosv-1(config)#no snmp-server community cisco_public RO\n",
      "iosv-1(config)#no snmp-server community cisco_private RW\n",
      "iosv-1(config)#no snmp-server location dCloud\n",
      "iosv-1(config)#no ip access-list extended TEST_ACL\n",
      "iosv-1(config)#no interface loopback 10\n",
      "iosv-1(config)#end\n",
      "iosv-1#\n",
      "Connecting to device 198.18.1.56\n",
      "config term\n",
      "Enter configuration commands, one per line.  End with CNTL/Z.\n",
      "iosv-2(config)#no logging console\n",
      "iosv-2(config)#no logging host 10.1.1.1\n",
      "Host 10.1.1.1 not found for logging\n",
      "iosv-2(config)#no logging host 10.1.1.2\n",
      "iosv-2(config)#no logging host 10.1.1.3\n",
      "iosv-2(config)#no ntp server 10.1.1.4\n",
      "iosv-2(config)#no ip name-server 10.1.1.5\n",
      "iosv-2(config)#no snmp-server community cisco_public RO\n",
      "iosv-2(config)#no snmp-server community cisco_private RW\n",
      "iosv-2(config)#no snmp-server location dCloud\n",
      "iosv-2(config)#no ip access-list extended TEST_ACL\n",
      "iosv-2(config)#no interface loopback 10\n",
      "iosv-2(config)#end\n",
      "iosv-2#\n"
     ]
    }
   ],
   "source": [
    "#!/usr/bin/env python\n",
    "from netmiko import Netmiko\n",
    "\n",
    "# Sending device ip's stored in a file \n",
    "with open('device_list') as f:\n",
    "    device_list = f.read().splitlines()\n",
    "\n",
    "# Iterate through device list and configure the devices \n",
    "for device in device_list:\n",
    "    print ('Connecting to device ' + device)\n",
    "    ip_address_of_device = device\n",
    "    \n",
    "    # SSH Connection details \n",
    "    ios_device = {\n",
    "        'device_type': 'cisco_ios',\n",
    "        'ip': ip_address_of_device, \n",
    "        'username': 'cisco',\n",
    "        'password': 'cisco'\n",
    "    }\n",
    " \n",
    "    net_connect = Netmiko(**ios_device)\n",
    "    output = net_connect.send_config_from_file('reset_config')\n",
    "    print (output)     "
   ]
  },
  {
   "cell_type": "markdown",
   "metadata": {},
   "source": [
    "#### END.. You have sucessfully completed all the lab tasks. Pls return to the Conclusion section on the lab guide."
   ]
  },
  {
   "cell_type": "code",
   "execution_count": null,
   "metadata": {},
   "outputs": [],
   "source": []
  }
 ],
 "metadata": {
  "kernelspec": {
   "display_name": "Python 3",
   "language": "python",
   "name": "python3"
  },
  "language_info": {
   "codemirror_mode": {
    "name": "ipython",
    "version": 3
   },
   "file_extension": ".py",
   "mimetype": "text/x-python",
   "name": "python",
   "nbconvert_exporter": "python",
   "pygments_lexer": "ipython3",
   "version": "3.7.3"
  }
 },
 "nbformat": 4,
 "nbformat_minor": 2
}
